{
 "cells": [
  {
   "cell_type": "markdown",
   "id": "5b364b4b-b3d6-4d06-b2de-de2498d41698",
   "metadata": {
    "tags": []
   },
   "source": [
    "## Q1. Which function is used to open a file? What are the different modes of opening a file? Explain each mode of file opening."
   ]
  },
  {
   "cell_type": "markdown",
   "id": "0fd2f560-f127-4594-9017-f3d701d72878",
   "metadata": {},
   "source": [
    "#### Ans. \n",
    "#### open() function is used for opening a file.\n",
    "#### The open() function takes two parameters; filename, and mode."
   ]
  },
  {
   "cell_type": "markdown",
   "id": "8ba96ae7-2b8f-4ff7-bda2-a1fd2b2266eb",
   "metadata": {},
   "source": [
    "#### Differnt modes of opening a file are:- \n",
    "#### 'r' : Read mode. (default)\n",
    "#### 'w' : Write mode. Creates a new file if it does not exist or truncates (remove data of) the file if it exists.\n",
    "#### 'x' : Open a file for exclusive creation. If the file already exists, the operation fails.\n",
    "#### 'a' : Appending at the end of the file without truncating it. Creates a new file if it does not exist.\n",
    "#### 't' : Open in text mode. (default)\n",
    "#### 'b' : Open in binary mode.\n",
    "#### '+' : Open a file for updating (reading and writing)\n",
    "#### 'U' : universal newline mode. (deprecated)"
   ]
  },
  {
   "cell_type": "markdown",
   "id": "619a46c8-9d51-4f83-840f-78f0604f3430",
   "metadata": {},
   "source": [
    "## Q2. Why close() function is used? Why is it important to close a file?"
   ]
  },
  {
   "cell_type": "markdown",
   "id": "716f606d-e9f3-483b-bad1-b78c78d9396a",
   "metadata": {},
   "source": [
    "#### Ans. \n",
    "#### close() function is used to close an opened file.\n",
    "#### Closing a file is important because, in some cases, due to buffering, changes made to a file may not show until you close the file."
   ]
  },
  {
   "cell_type": "markdown",
   "id": "45d45095-5d0a-4252-a4fe-9dd60e6e38be",
   "metadata": {},
   "source": [
    "## Q3. Write a python program to create a text file. Write ‘I want to become a Data Scientist’ in that file. Then close the file. Open this file and read the content of the file."
   ]
  },
  {
   "cell_type": "code",
   "execution_count": 1,
   "id": "6d311cc2-6d46-496d-ba56-7175c11933e9",
   "metadata": {},
   "outputs": [],
   "source": [
    "f = open('assign_10_feb.txt', 'w')"
   ]
  },
  {
   "cell_type": "code",
   "execution_count": 2,
   "id": "7290fdd0-70fb-463e-84ae-def2680c6444",
   "metadata": {},
   "outputs": [
    {
     "data": {
      "text/plain": [
       "33"
      ]
     },
     "execution_count": 2,
     "metadata": {},
     "output_type": "execute_result"
    }
   ],
   "source": [
    "f.write('I want to become a Data Scientist')"
   ]
  },
  {
   "cell_type": "code",
   "execution_count": 3,
   "id": "3ffecdf0-064d-43bb-8955-6104222711c6",
   "metadata": {},
   "outputs": [],
   "source": [
    "f.close()"
   ]
  },
  {
   "cell_type": "code",
   "execution_count": null,
   "id": "638f1c46-c9f7-49fd-8616-87f15d780aeb",
   "metadata": {},
   "outputs": [],
   "source": []
  },
  {
   "cell_type": "code",
   "execution_count": 4,
   "id": "8a186f4a-0c47-4815-a94c-63f0e9df5d9c",
   "metadata": {},
   "outputs": [],
   "source": [
    "d = open('assign_10_feb.txt', 'r')"
   ]
  },
  {
   "cell_type": "code",
   "execution_count": 5,
   "id": "88ba1d53-d908-49c8-ad14-11a1c6909965",
   "metadata": {},
   "outputs": [
    {
     "data": {
      "text/plain": [
       "'I want to become a Data Scientist'"
      ]
     },
     "execution_count": 5,
     "metadata": {},
     "output_type": "execute_result"
    }
   ],
   "source": [
    "d.read()"
   ]
  },
  {
   "cell_type": "code",
   "execution_count": null,
   "id": "19207ba9-bd6f-4444-8637-c74c87a95925",
   "metadata": {},
   "outputs": [],
   "source": []
  },
  {
   "cell_type": "markdown",
   "id": "48dfb189-3108-41b1-80e6-4ff9824151b9",
   "metadata": {},
   "source": [
    "## Q4. Explain the following with python code: read(), readline() and readlines()."
   ]
  },
  {
   "cell_type": "markdown",
   "id": "acbeb648-614f-4c53-b13f-8ab0a174b72b",
   "metadata": {},
   "source": [
    "#### Ans.\n",
    "#### read():- The read method reads the entire contents of a file and returns it as a string\n",
    "\n",
    "#### readline():- The readline method reads a single line from a file and returns it as a string. This means that if you use readline, you can read the contents of a file line by line, which can be useful for processing large files that do not fit in memory.\n",
    "\n",
    "#### readlines():- The readlines method reads the entire contents of a file and returns it as a list of strings, where each element of the list is a single line of the file."
   ]
  },
  {
   "cell_type": "code",
   "execution_count": null,
   "id": "6e43e3d6-466b-413d-8d86-46e1301f447e",
   "metadata": {},
   "outputs": [],
   "source": []
  },
  {
   "cell_type": "markdown",
   "id": "9e7f7dce-a6df-45ce-80be-b130ae97a304",
   "metadata": {},
   "source": [
    "## Q5. Explain why with statement is used with open(). What is the advantage of using with statement and open() together?"
   ]
  },
  {
   "cell_type": "markdown",
   "id": "f2e94bc5-d4be-48bb-bf3d-ad43fa11fd59",
   "metadata": {},
   "source": [
    "#### Ans.\n",
    "#### The 'with' statement is used with open() function to open a file. It will close the file automatically without mentioning close().\n",
    "\n",
    "#### It's advantage is that we don't have to use close() function to close a file as it close the file automatically without us telling it to.\n",
    "#### It ensures that resources are closed immediately after processing.\n",
    "#### This is because the with statement calls 2 built-in methods behind the scene – __enter()__ and __exit()__ ."
   ]
  },
  {
   "cell_type": "code",
   "execution_count": null,
   "id": "81723c24-635a-4da3-b0dc-75fefc2b5e75",
   "metadata": {},
   "outputs": [],
   "source": []
  },
  {
   "cell_type": "markdown",
   "id": "0f6b7ec9-7880-4461-aa6f-b53b4706b17a",
   "metadata": {},
   "source": [
    "## Q6. Explain the write() and writelines() functions. Give a suitable example."
   ]
  },
  {
   "cell_type": "markdown",
   "id": "3dc73486-fa22-4864-b6af-78353b6046fd",
   "metadata": {},
   "source": [
    "#### Ans.\n",
    "#### write():- The write() function will write the content in the file without adding any extra characters. It is used to write a string to an already opened file.\n",
    "\n",
    "#### writelines():- The writelines() function write the content of a list in the file. It is used to write a list of strings in an opened file."
   ]
  },
  {
   "cell_type": "markdown",
   "id": "46f5323d-554c-47fd-905c-b9b068fca80b",
   "metadata": {},
   "source": [
    "## Example:-"
   ]
  },
  {
   "cell_type": "code",
   "execution_count": 6,
   "id": "51e750e7-a027-475c-a495-60345efc109e",
   "metadata": {},
   "outputs": [],
   "source": [
    "f1 = open('name.txt', 'w')"
   ]
  },
  {
   "cell_type": "code",
   "execution_count": 7,
   "id": "16b361ce-7a22-49e3-bd9e-b4f1dc8e2923",
   "metadata": {},
   "outputs": [
    {
     "data": {
      "text/plain": [
       "3"
      ]
     },
     "execution_count": 7,
     "metadata": {},
     "output_type": "execute_result"
    }
   ],
   "source": [
    "f1.write('ABC')"
   ]
  },
  {
   "cell_type": "code",
   "execution_count": 8,
   "id": "eea69b96-ac67-4c30-bfea-52029a312e46",
   "metadata": {},
   "outputs": [],
   "source": [
    "f1.close()"
   ]
  },
  {
   "cell_type": "code",
   "execution_count": 9,
   "id": "d9e437a4-74d8-4eaf-a48d-40d3a81b80b6",
   "metadata": {},
   "outputs": [],
   "source": [
    "f2 = open('names.txt', 'w')"
   ]
  },
  {
   "cell_type": "code",
   "execution_count": 10,
   "id": "c9724739-4ea0-4981-8ae0-c5373e457881",
   "metadata": {},
   "outputs": [],
   "source": [
    "l = ['ABC ', 'BCD ', 'DEF ']\n",
    "\n",
    "f2.writelines(l)"
   ]
  },
  {
   "cell_type": "code",
   "execution_count": 11,
   "id": "014e6a87-af65-48e8-97ae-5eb12b359a12",
   "metadata": {},
   "outputs": [],
   "source": [
    "f2.close()"
   ]
  },
  {
   "cell_type": "markdown",
   "id": "79933163-cdfe-45aa-9686-867cd0412cfc",
   "metadata": {},
   "source": [
    "#### Now, reading both 'name.txt' and 'names.txt' files:-"
   ]
  },
  {
   "cell_type": "code",
   "execution_count": 12,
   "id": "ebb3f7b8-2eaa-4e65-a7a1-6825f2b2b418",
   "metadata": {},
   "outputs": [],
   "source": [
    "F1 = open('name.txt', 'r')"
   ]
  },
  {
   "cell_type": "code",
   "execution_count": 13,
   "id": "1dbfb133-42cb-40d6-af0e-dc8fb3e24482",
   "metadata": {},
   "outputs": [
    {
     "data": {
      "text/plain": [
       "'ABC'"
      ]
     },
     "execution_count": 13,
     "metadata": {},
     "output_type": "execute_result"
    }
   ],
   "source": [
    "F1.read()"
   ]
  },
  {
   "cell_type": "code",
   "execution_count": 14,
   "id": "9723bfb9-6b13-4d6e-9968-d2bc9751c6cb",
   "metadata": {},
   "outputs": [],
   "source": [
    "F2 = open('names.txt', 'r')"
   ]
  },
  {
   "cell_type": "code",
   "execution_count": 15,
   "id": "ae11c645-7541-47b8-b7b2-bb731ca6a8fb",
   "metadata": {},
   "outputs": [
    {
     "data": {
      "text/plain": [
       "'ABC BCD DEF '"
      ]
     },
     "execution_count": 15,
     "metadata": {},
     "output_type": "execute_result"
    }
   ],
   "source": [
    "F2.read()"
   ]
  }
 ],
 "metadata": {
  "kernelspec": {
   "display_name": "Python 3 (ipykernel)",
   "language": "python",
   "name": "python3"
  },
  "language_info": {
   "codemirror_mode": {
    "name": "ipython",
    "version": 3
   },
   "file_extension": ".py",
   "mimetype": "text/x-python",
   "name": "python",
   "nbconvert_exporter": "python",
   "pygments_lexer": "ipython3",
   "version": "3.10.8"
  }
 },
 "nbformat": 4,
 "nbformat_minor": 5
}
